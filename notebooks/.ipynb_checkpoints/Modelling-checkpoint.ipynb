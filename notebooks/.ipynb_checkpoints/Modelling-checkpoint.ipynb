{
 "cells": [
  {
   "cell_type": "markdown",
   "metadata": {},
   "source": [
    "some modelling notes:\n",
    "\n",
    "if new user, add to dataframe and calculate cosine similarity\n",
    "if new user, who has only read books not in dataframe:\n",
    "    if similarity value is below a certain threshold, maybe recommend the most popular titles---most read and most rated\n",
    "if recurring user reads book not in database, just add it to the dataframe"
   ]
  }
 ],
 "metadata": {
  "kernelspec": {
   "display_name": "Python 3",
   "language": "python",
   "name": "python3"
  },
  "language_info": {
   "codemirror_mode": {
    "name": "ipython",
    "version": 3
   },
   "file_extension": ".py",
   "mimetype": "text/x-python",
   "name": "python",
   "nbconvert_exporter": "python",
   "pygments_lexer": "ipython3",
   "version": "3.7.6"
  }
 },
 "nbformat": 4,
 "nbformat_minor": 4
}
