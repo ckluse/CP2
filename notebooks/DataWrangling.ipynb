{
 "cells": [
  {
   "cell_type": "code",
   "execution_count": 1,
   "metadata": {},
   "outputs": [],
   "source": [
    "import pandas as pd\n",
    "import os\n",
    "import json\n",
    "import gzip\n",
    "import numpy as np\n",
    "import pandas_profiling\n",
    "from pathlib import Path"
   ]
  },
  {
   "cell_type": "code",
   "execution_count": 2,
   "metadata": {},
   "outputs": [],
   "source": [
    "path = Path(os.getcwd()).parents[0]"
   ]
  },
  {
   "cell_type": "code",
   "execution_count": 3,
   "metadata": {},
   "outputs": [],
   "source": [
    "file = os.path.join(path,'data/source')"
   ]
  },
  {
   "cell_type": "markdown",
   "metadata": {},
   "source": [
    " The dataset does not come with headers, so it's hard to tell what the data represents. However, someone was able to guess the headers <a href=http://rstudio-pubs-static.s3.amazonaws.com/73039_9946de135c0a49daa7a0a9eda4a67a72.html> here </a>. I used their headers just to make the dataset a little bit easier to interpret. "
   ]
  },
  {
   "cell_type": "code",
   "execution_count": 4,
   "metadata": {},
   "outputs": [],
   "source": [
    "headers = ['Gender','Age','Debt','Married','Bank Customer','Education Level','Ethnicity','Years Employed','Prior Default','Currently Employed','Credit Score','Drivers License','Citizen','Zip Code','Income','Approved']"
   ]
  },
  {
   "cell_type": "code",
   "execution_count": 5,
   "metadata": {},
   "outputs": [],
   "source": [
    "df = pd.read_csv(file + '\\\\crx.data',header=None,names=headers)"
   ]
  },
  {
   "cell_type": "code",
   "execution_count": 6,
   "metadata": {},
   "outputs": [
    {
     "data": {
      "text/html": [
       "<div>\n",
       "<style scoped>\n",
       "    .dataframe tbody tr th:only-of-type {\n",
       "        vertical-align: middle;\n",
       "    }\n",
       "\n",
       "    .dataframe tbody tr th {\n",
       "        vertical-align: top;\n",
       "    }\n",
       "\n",
       "    .dataframe thead th {\n",
       "        text-align: right;\n",
       "    }\n",
       "</style>\n",
       "<table border=\"1\" class=\"dataframe\">\n",
       "  <thead>\n",
       "    <tr style=\"text-align: right;\">\n",
       "      <th></th>\n",
       "      <th>Gender</th>\n",
       "      <th>Age</th>\n",
       "      <th>Debt</th>\n",
       "      <th>Married</th>\n",
       "      <th>Bank Customer</th>\n",
       "      <th>Education Level</th>\n",
       "      <th>Ethnicity</th>\n",
       "      <th>Years Employed</th>\n",
       "      <th>Prior Default</th>\n",
       "      <th>Currently Employed</th>\n",
       "      <th>Credit Score</th>\n",
       "      <th>Drivers License</th>\n",
       "      <th>Citizen</th>\n",
       "      <th>Zip Code</th>\n",
       "      <th>Income</th>\n",
       "      <th>Approved</th>\n",
       "    </tr>\n",
       "  </thead>\n",
       "  <tbody>\n",
       "    <tr>\n",
       "      <th>0</th>\n",
       "      <td>b</td>\n",
       "      <td>30.83</td>\n",
       "      <td>0.000</td>\n",
       "      <td>u</td>\n",
       "      <td>g</td>\n",
       "      <td>w</td>\n",
       "      <td>v</td>\n",
       "      <td>1.25</td>\n",
       "      <td>t</td>\n",
       "      <td>t</td>\n",
       "      <td>1</td>\n",
       "      <td>f</td>\n",
       "      <td>g</td>\n",
       "      <td>00202</td>\n",
       "      <td>0</td>\n",
       "      <td>+</td>\n",
       "    </tr>\n",
       "    <tr>\n",
       "      <th>1</th>\n",
       "      <td>a</td>\n",
       "      <td>58.67</td>\n",
       "      <td>4.460</td>\n",
       "      <td>u</td>\n",
       "      <td>g</td>\n",
       "      <td>q</td>\n",
       "      <td>h</td>\n",
       "      <td>3.04</td>\n",
       "      <td>t</td>\n",
       "      <td>t</td>\n",
       "      <td>6</td>\n",
       "      <td>f</td>\n",
       "      <td>g</td>\n",
       "      <td>00043</td>\n",
       "      <td>560</td>\n",
       "      <td>+</td>\n",
       "    </tr>\n",
       "    <tr>\n",
       "      <th>2</th>\n",
       "      <td>a</td>\n",
       "      <td>24.50</td>\n",
       "      <td>0.500</td>\n",
       "      <td>u</td>\n",
       "      <td>g</td>\n",
       "      <td>q</td>\n",
       "      <td>h</td>\n",
       "      <td>1.50</td>\n",
       "      <td>t</td>\n",
       "      <td>f</td>\n",
       "      <td>0</td>\n",
       "      <td>f</td>\n",
       "      <td>g</td>\n",
       "      <td>00280</td>\n",
       "      <td>824</td>\n",
       "      <td>+</td>\n",
       "    </tr>\n",
       "    <tr>\n",
       "      <th>3</th>\n",
       "      <td>b</td>\n",
       "      <td>27.83</td>\n",
       "      <td>1.540</td>\n",
       "      <td>u</td>\n",
       "      <td>g</td>\n",
       "      <td>w</td>\n",
       "      <td>v</td>\n",
       "      <td>3.75</td>\n",
       "      <td>t</td>\n",
       "      <td>t</td>\n",
       "      <td>5</td>\n",
       "      <td>t</td>\n",
       "      <td>g</td>\n",
       "      <td>00100</td>\n",
       "      <td>3</td>\n",
       "      <td>+</td>\n",
       "    </tr>\n",
       "    <tr>\n",
       "      <th>4</th>\n",
       "      <td>b</td>\n",
       "      <td>20.17</td>\n",
       "      <td>5.625</td>\n",
       "      <td>u</td>\n",
       "      <td>g</td>\n",
       "      <td>w</td>\n",
       "      <td>v</td>\n",
       "      <td>1.71</td>\n",
       "      <td>t</td>\n",
       "      <td>f</td>\n",
       "      <td>0</td>\n",
       "      <td>f</td>\n",
       "      <td>s</td>\n",
       "      <td>00120</td>\n",
       "      <td>0</td>\n",
       "      <td>+</td>\n",
       "    </tr>\n",
       "  </tbody>\n",
       "</table>\n",
       "</div>"
      ],
      "text/plain": [
       "  Gender    Age   Debt Married Bank Customer Education Level Ethnicity  \\\n",
       "0      b  30.83  0.000       u             g               w         v   \n",
       "1      a  58.67  4.460       u             g               q         h   \n",
       "2      a  24.50  0.500       u             g               q         h   \n",
       "3      b  27.83  1.540       u             g               w         v   \n",
       "4      b  20.17  5.625       u             g               w         v   \n",
       "\n",
       "   Years Employed Prior Default Currently Employed  Credit Score  \\\n",
       "0            1.25             t                  t             1   \n",
       "1            3.04             t                  t             6   \n",
       "2            1.50             t                  f             0   \n",
       "3            3.75             t                  t             5   \n",
       "4            1.71             t                  f             0   \n",
       "\n",
       "  Drivers License Citizen Zip Code  Income Approved  \n",
       "0               f       g    00202       0        +  \n",
       "1               f       g    00043     560        +  \n",
       "2               f       g    00280     824        +  \n",
       "3               t       g    00100       3        +  \n",
       "4               f       s    00120       0        +  "
      ]
     },
     "execution_count": 6,
     "metadata": {},
     "output_type": "execute_result"
    }
   ],
   "source": [
    "df.head()"
   ]
  },
  {
   "cell_type": "code",
   "execution_count": 12,
   "metadata": {},
   "outputs": [
    {
     "data": {
      "text/plain": [
       "(690, 16)"
      ]
     },
     "execution_count": 12,
     "metadata": {},
     "output_type": "execute_result"
    }
   ],
   "source": [
    "df.shape"
   ]
  },
  {
   "cell_type": "code",
   "execution_count": 7,
   "metadata": {},
   "outputs": [
    {
     "name": "stdout",
     "output_type": "stream",
     "text": [
      "<class 'pandas.core.frame.DataFrame'>\n",
      "RangeIndex: 690 entries, 0 to 689\n",
      "Data columns (total 16 columns):\n",
      " #   Column              Non-Null Count  Dtype  \n",
      "---  ------              --------------  -----  \n",
      " 0   Gender              690 non-null    object \n",
      " 1   Age                 690 non-null    object \n",
      " 2   Debt                690 non-null    float64\n",
      " 3   Married             690 non-null    object \n",
      " 4   Bank Customer       690 non-null    object \n",
      " 5   Education Level     690 non-null    object \n",
      " 6   Ethnicity           690 non-null    object \n",
      " 7   Years Employed      690 non-null    float64\n",
      " 8   Prior Default       690 non-null    object \n",
      " 9   Currently Employed  690 non-null    object \n",
      " 10  Credit Score        690 non-null    int64  \n",
      " 11  Drivers License     690 non-null    object \n",
      " 12  Citizen             690 non-null    object \n",
      " 13  Zip Code            690 non-null    object \n",
      " 14  Income              690 non-null    int64  \n",
      " 15  Approved            690 non-null    object \n",
      "dtypes: float64(2), int64(2), object(12)\n",
      "memory usage: 86.4+ KB\n"
     ]
    }
   ],
   "source": [
    "df.info()"
   ]
  },
  {
   "cell_type": "code",
   "execution_count": 14,
   "metadata": {},
   "outputs": [
    {
     "data": {
      "text/html": [
       "<div>\n",
       "<style scoped>\n",
       "    .dataframe tbody tr th:only-of-type {\n",
       "        vertical-align: middle;\n",
       "    }\n",
       "\n",
       "    .dataframe tbody tr th {\n",
       "        vertical-align: top;\n",
       "    }\n",
       "\n",
       "    .dataframe thead th {\n",
       "        text-align: right;\n",
       "    }\n",
       "</style>\n",
       "<table border=\"1\" class=\"dataframe\">\n",
       "  <thead>\n",
       "    <tr style=\"text-align: right;\">\n",
       "      <th></th>\n",
       "      <th>Debt</th>\n",
       "      <th>Years Employed</th>\n",
       "      <th>Credit Score</th>\n",
       "      <th>Income</th>\n",
       "    </tr>\n",
       "  </thead>\n",
       "  <tbody>\n",
       "    <tr>\n",
       "      <th>count</th>\n",
       "      <td>690.000000</td>\n",
       "      <td>690.000000</td>\n",
       "      <td>690.00000</td>\n",
       "      <td>690.000000</td>\n",
       "    </tr>\n",
       "    <tr>\n",
       "      <th>mean</th>\n",
       "      <td>4.758725</td>\n",
       "      <td>2.223406</td>\n",
       "      <td>2.40000</td>\n",
       "      <td>1017.385507</td>\n",
       "    </tr>\n",
       "    <tr>\n",
       "      <th>std</th>\n",
       "      <td>4.978163</td>\n",
       "      <td>3.346513</td>\n",
       "      <td>4.86294</td>\n",
       "      <td>5210.102598</td>\n",
       "    </tr>\n",
       "    <tr>\n",
       "      <th>min</th>\n",
       "      <td>0.000000</td>\n",
       "      <td>0.000000</td>\n",
       "      <td>0.00000</td>\n",
       "      <td>0.000000</td>\n",
       "    </tr>\n",
       "    <tr>\n",
       "      <th>25%</th>\n",
       "      <td>1.000000</td>\n",
       "      <td>0.165000</td>\n",
       "      <td>0.00000</td>\n",
       "      <td>0.000000</td>\n",
       "    </tr>\n",
       "    <tr>\n",
       "      <th>50%</th>\n",
       "      <td>2.750000</td>\n",
       "      <td>1.000000</td>\n",
       "      <td>0.00000</td>\n",
       "      <td>5.000000</td>\n",
       "    </tr>\n",
       "    <tr>\n",
       "      <th>75%</th>\n",
       "      <td>7.207500</td>\n",
       "      <td>2.625000</td>\n",
       "      <td>3.00000</td>\n",
       "      <td>395.500000</td>\n",
       "    </tr>\n",
       "    <tr>\n",
       "      <th>max</th>\n",
       "      <td>28.000000</td>\n",
       "      <td>28.500000</td>\n",
       "      <td>67.00000</td>\n",
       "      <td>100000.000000</td>\n",
       "    </tr>\n",
       "  </tbody>\n",
       "</table>\n",
       "</div>"
      ],
      "text/plain": [
       "             Debt  Years Employed  Credit Score         Income\n",
       "count  690.000000      690.000000     690.00000     690.000000\n",
       "mean     4.758725        2.223406       2.40000    1017.385507\n",
       "std      4.978163        3.346513       4.86294    5210.102598\n",
       "min      0.000000        0.000000       0.00000       0.000000\n",
       "25%      1.000000        0.165000       0.00000       0.000000\n",
       "50%      2.750000        1.000000       0.00000       5.000000\n",
       "75%      7.207500        2.625000       3.00000     395.500000\n",
       "max     28.000000       28.500000      67.00000  100000.000000"
      ]
     },
     "execution_count": 14,
     "metadata": {},
     "output_type": "execute_result"
    }
   ],
   "source": [
    "df.describe()"
   ]
  },
  {
   "cell_type": "code",
   "execution_count": 8,
   "metadata": {},
   "outputs": [
    {
     "name": "stdout",
     "output_type": "stream",
     "text": [
      "b    468\n",
      "a    210\n",
      "?     12\n",
      "Name: Gender, dtype: int64\n",
      "--------------------------\n",
      "?        12\n",
      "22.67     9\n",
      "20.42     7\n",
      "25.00     6\n",
      "22.50     6\n",
      "         ..\n",
      "42.17     1\n",
      "39.42     1\n",
      "54.42     1\n",
      "36.58     1\n",
      "18.50     1\n",
      "Name: Age, Length: 350, dtype: int64\n",
      "--------------------------\n",
      "u    519\n",
      "y    163\n",
      "?      6\n",
      "l      2\n",
      "Name: Married, dtype: int64\n",
      "--------------------------\n",
      "g     519\n",
      "p     163\n",
      "?       6\n",
      "gg      2\n",
      "Name: Bank Customer, dtype: int64\n",
      "--------------------------\n",
      "c     137\n",
      "q      78\n",
      "w      64\n",
      "i      59\n",
      "aa     54\n",
      "ff     53\n",
      "k      51\n",
      "cc     41\n",
      "m      38\n",
      "x      38\n",
      "d      30\n",
      "e      25\n",
      "j      10\n",
      "?       9\n",
      "r       3\n",
      "Name: Education Level, dtype: int64\n",
      "--------------------------\n",
      "v     399\n",
      "h     138\n",
      "bb     59\n",
      "ff     57\n",
      "?       9\n",
      "j       8\n",
      "z       8\n",
      "dd      6\n",
      "n       4\n",
      "o       2\n",
      "Name: Ethnicity, dtype: int64\n",
      "--------------------------\n",
      "t    361\n",
      "f    329\n",
      "Name: Prior Default, dtype: int64\n",
      "--------------------------\n",
      "f    395\n",
      "t    295\n",
      "Name: Currently Employed, dtype: int64\n",
      "--------------------------\n",
      "f    374\n",
      "t    316\n",
      "Name: Drivers License, dtype: int64\n",
      "--------------------------\n",
      "g    625\n",
      "s     57\n",
      "p      8\n",
      "Name: Citizen, dtype: int64\n",
      "--------------------------\n",
      "00000    132\n",
      "00120     35\n",
      "00200     35\n",
      "00160     34\n",
      "00100     30\n",
      "        ... \n",
      "00167      1\n",
      "00029      1\n",
      "00030      1\n",
      "00510      1\n",
      "00348      1\n",
      "Name: Zip Code, Length: 171, dtype: int64\n",
      "--------------------------\n",
      "-    383\n",
      "+    307\n",
      "Name: Approved, dtype: int64\n",
      "--------------------------\n"
     ]
    }
   ],
   "source": [
    "for col in df:\n",
    "    if df[col].dtypes == object:\n",
    "        print(df[col].value_counts())\n",
    "        print('--------------------------')\n",
    "    else:\n",
    "        continue"
   ]
  },
  {
   "cell_type": "code",
   "execution_count": 13,
   "metadata": {},
   "outputs": [
    {
     "data": {
      "text/plain": [
       "0.5550724637681159"
      ]
     },
     "execution_count": 13,
     "metadata": {},
     "output_type": "execute_result"
    }
   ],
   "source": [
    "383/690"
   ]
  },
  {
   "cell_type": "markdown",
   "metadata": {},
   "source": [
    "There are two interesting takeaways from this. First, there are slightly more rejections than approvals in this dataset. About 55% of the customers were rejected for a credit card. This slight bias in the dataset is something to keep in mind throughout the project.\n",
    "\n",
    "Second, it looks like the NA values are in the form of '?'. I replaced them with the most common value in each column."
   ]
  },
  {
   "cell_type": "code",
   "execution_count": 10,
   "metadata": {},
   "outputs": [
    {
     "data": {
      "text/plain": [
       "Gender                12\n",
       "Age                   12\n",
       "Debt                   0\n",
       "Married                6\n",
       "Bank Customer          6\n",
       "Education Level        9\n",
       "Ethnicity              9\n",
       "Years Employed         0\n",
       "Prior Default          0\n",
       "Currently Employed     0\n",
       "Credit Score           0\n",
       "Drivers License        0\n",
       "Citizen                0\n",
       "Zip Code              13\n",
       "Income                 0\n",
       "Approved               0\n",
       "dtype: int64"
      ]
     },
     "execution_count": 10,
     "metadata": {},
     "output_type": "execute_result"
    }
   ],
   "source": [
    "#First I wanted to check how many NAs were in each column\n",
    "df = df.replace('?',np.NaN)\n",
    "df.isna().sum()"
   ]
  },
  {
   "cell_type": "code",
   "execution_count": 11,
   "metadata": {},
   "outputs": [
    {
     "name": "stdout",
     "output_type": "stream",
     "text": [
      "Gender                0\n",
      "Age                   0\n",
      "Debt                  0\n",
      "Married               0\n",
      "Bank Customer         0\n",
      "Education Level       0\n",
      "Ethnicity             0\n",
      "Years Employed        0\n",
      "Prior Default         0\n",
      "Currently Employed    0\n",
      "Credit Score          0\n",
      "Drivers License       0\n",
      "Citizen               0\n",
      "Zip Code              0\n",
      "Income                0\n",
      "Approved              0\n",
      "dtype: int64\n"
     ]
    }
   ],
   "source": [
    "for col in df:\n",
    "     if df[col].dtypes == 'object':\n",
    "        df = df.fillna(df[col].value_counts().index[0])\n",
    "\n",
    "print(df.isna().sum())"
   ]
  },
  {
   "cell_type": "markdown",
   "metadata": {},
   "source": [
    "There wasn't much data wrangling to do with this dataset, as it is fairly clean. Since the data has been completely anonymized, it's hard to tell if there are any mistakes or typos. As far as I can tell, the dataset is ready for EDA. "
   ]
  },
  {
   "cell_type": "code",
   "execution_count": null,
   "metadata": {},
   "outputs": [],
   "source": [
    "df.to_csv(os.path.join(path,'data/processed','DataWranglingOutput.csv'))"
   ]
  }
 ],
 "metadata": {
  "kernelspec": {
   "display_name": "Python 3",
   "language": "python",
   "name": "python3"
  },
  "language_info": {
   "codemirror_mode": {
    "name": "ipython",
    "version": 3
   },
   "file_extension": ".py",
   "mimetype": "text/x-python",
   "name": "python",
   "nbconvert_exporter": "python",
   "pygments_lexer": "ipython3",
   "version": "3.7.6"
  }
 },
 "nbformat": 4,
 "nbformat_minor": 4
}
